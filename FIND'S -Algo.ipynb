{
 "cells": [
  {
   "cell_type": "raw",
   "id": "de74b868-961e-4906-8533-9c68de467c49",
   "metadata": {},
   "source": [
    "1. Implement and demonstrate the FIND-S algorithm for finding the most specific hypothesis based on a given set of training data samples. Read the training data from \n",
    ".CSV file."
   ]
  },
  {
   "cell_type": "markdown",
   "id": "0f2ad6df-5149-4204-8eed-e4b72c5b2d44",
   "metadata": {},
   "source": [
    "### SOURCE CODE:"
   ]
  },
  {
   "cell_type": "code",
   "execution_count": 75,
   "id": "3d481827-1910-4f27-8e75-cc57d3ef7d71",
   "metadata": {},
   "outputs": [
    {
     "name": "stdout",
     "output_type": "stream",
     "text": [
      "    Outlook Temperature Humidity    Wind Play Tennis\n",
      "0     Sunny         Hot     High    Weak          No\n",
      "1     Sunny         Hot     High  Strong          No\n",
      "2  Overcast         Hot     High    Weak         Yes\n",
      "3      Rain        Mild     High    Weak         Yes\n",
      "4      Rain        Cool   Normal    Weak         Yes\n"
     ]
    }
   ],
   "source": [
    "import pandas as pd\n",
    "import requests\n",
    "from io import StringIO\n",
    "\n",
    "url = \"https://github.com/Shaik-Mohammed-Kaif/FIND-S-algorithm/raw/refs/heads/main/Play_tennis.csv\"\n",
    "\n",
    "# Retrieve the dataset\n",
    "response = requests.get(url)\n",
    "\n",
    "# Convert response text into Pandas DataFrame\n",
    "df = pd.read_csv(StringIO(response.text))\n",
    "\n",
    "# Print first few rows\n",
    "print(df.head())"
   ]
  },
  {
   "cell_type": "markdown",
   "id": "f97aff17-7658-4fcc-a79c-4e432696dad0",
   "metadata": {},
   "source": [
    "$$\n",
    "(OR)\n",
    "$$"
   ]
  },
  {
   "cell_type": "code",
   "execution_count": 52,
   "id": "d3ca427c-adba-437e-b462-e9112ced931e",
   "metadata": {},
   "outputs": [
    {
     "name": "stdout",
     "output_type": "stream",
     "text": [
      "     Outlook Temperature Humidity    Wind Play Tennis\n",
      "0      Sunny         Hot     High    Weak          No\n",
      "1      Sunny         Hot     High  Strong          No\n",
      "2   Overcast         Hot     High    Weak         Yes\n",
      "3       Rain        Mild     High    Weak         Yes\n",
      "4       Rain        Cool   Normal    Weak         Yes\n",
      "5       Rain        Cool   Normal  Strong          No\n",
      "6   Overcast        Cool   Normal  Strong         Yes\n",
      "7      Sunny        Mild     High    Weak          No\n",
      "8      Sunny        Cool   Normal    Weak         Yes\n",
      "9       Rain        Mild   Normal    Weak         Yes\n",
      "10     Sunny        Mild   Normal  Strong         Yes\n",
      "11  Overcast        Mild     High  Strong         Yes\n",
      "12  Overcast         Hot   Normal    Weak         Yes\n",
      "13      Rain        Mild     High  Strong          No\n"
     ]
    }
   ],
   "source": [
    "## Online Dataset Reteriving..\n",
    "\n",
    "# Retrieve for Related Dataset in System..\n",
    "import pandas as pd\n",
    "import requests\n",
    "import os\n",
    "from io import StringIO  # Required library importing...\n",
    "\n",
    "url = \"Play_tennis.csv\"\n",
    "\n",
    "df = pd.read_csv(url)\n",
    "print(df)"
   ]
  },
  {
   "cell_type": "code",
   "execution_count": 53,
   "id": "54b5d1ff-72f2-4d9a-930b-4ed5e3706403",
   "metadata": {},
   "outputs": [
    {
     "data": {
      "text/html": [
       "<div>\n",
       "<style scoped>\n",
       "    .dataframe tbody tr th:only-of-type {\n",
       "        vertical-align: middle;\n",
       "    }\n",
       "\n",
       "    .dataframe tbody tr th {\n",
       "        vertical-align: top;\n",
       "    }\n",
       "\n",
       "    .dataframe thead th {\n",
       "        text-align: right;\n",
       "    }\n",
       "</style>\n",
       "<table border=\"1\" class=\"dataframe\">\n",
       "  <thead>\n",
       "    <tr style=\"text-align: right;\">\n",
       "      <th></th>\n",
       "      <th>Outlook</th>\n",
       "      <th>Temperature</th>\n",
       "      <th>Humidity</th>\n",
       "      <th>Wind</th>\n",
       "      <th>Play Tennis</th>\n",
       "    </tr>\n",
       "  </thead>\n",
       "  <tbody>\n",
       "    <tr>\n",
       "      <th>0</th>\n",
       "      <td>Sunny</td>\n",
       "      <td>Hot</td>\n",
       "      <td>High</td>\n",
       "      <td>Weak</td>\n",
       "      <td>No</td>\n",
       "    </tr>\n",
       "    <tr>\n",
       "      <th>1</th>\n",
       "      <td>Sunny</td>\n",
       "      <td>Hot</td>\n",
       "      <td>High</td>\n",
       "      <td>Strong</td>\n",
       "      <td>No</td>\n",
       "    </tr>\n",
       "    <tr>\n",
       "      <th>2</th>\n",
       "      <td>Overcast</td>\n",
       "      <td>Hot</td>\n",
       "      <td>High</td>\n",
       "      <td>Weak</td>\n",
       "      <td>Yes</td>\n",
       "    </tr>\n",
       "    <tr>\n",
       "      <th>3</th>\n",
       "      <td>Rain</td>\n",
       "      <td>Mild</td>\n",
       "      <td>High</td>\n",
       "      <td>Weak</td>\n",
       "      <td>Yes</td>\n",
       "    </tr>\n",
       "    <tr>\n",
       "      <th>4</th>\n",
       "      <td>Rain</td>\n",
       "      <td>Cool</td>\n",
       "      <td>Normal</td>\n",
       "      <td>Weak</td>\n",
       "      <td>Yes</td>\n",
       "    </tr>\n",
       "  </tbody>\n",
       "</table>\n",
       "</div>"
      ],
      "text/plain": [
       "    Outlook Temperature Humidity    Wind Play Tennis\n",
       "0     Sunny         Hot     High    Weak          No\n",
       "1     Sunny         Hot     High  Strong          No\n",
       "2  Overcast         Hot     High    Weak         Yes\n",
       "3      Rain        Mild     High    Weak         Yes\n",
       "4      Rain        Cool   Normal    Weak         Yes"
      ]
     },
     "execution_count": 53,
     "metadata": {},
     "output_type": "execute_result"
    }
   ],
   "source": [
    "df.head()  #Extract the some first rows..."
   ]
  },
  {
   "cell_type": "code",
   "execution_count": 54,
   "id": "1e956824-cf82-4a97-958e-9d0f38bd8dc6",
   "metadata": {},
   "outputs": [
    {
     "data": {
      "text/html": [
       "<div>\n",
       "<style scoped>\n",
       "    .dataframe tbody tr th:only-of-type {\n",
       "        vertical-align: middle;\n",
       "    }\n",
       "\n",
       "    .dataframe tbody tr th {\n",
       "        vertical-align: top;\n",
       "    }\n",
       "\n",
       "    .dataframe thead th {\n",
       "        text-align: right;\n",
       "    }\n",
       "</style>\n",
       "<table border=\"1\" class=\"dataframe\">\n",
       "  <thead>\n",
       "    <tr style=\"text-align: right;\">\n",
       "      <th></th>\n",
       "      <th>Outlook</th>\n",
       "      <th>Temperature</th>\n",
       "      <th>Humidity</th>\n",
       "      <th>Wind</th>\n",
       "      <th>Play Tennis</th>\n",
       "    </tr>\n",
       "  </thead>\n",
       "  <tbody>\n",
       "    <tr>\n",
       "      <th>9</th>\n",
       "      <td>Rain</td>\n",
       "      <td>Mild</td>\n",
       "      <td>Normal</td>\n",
       "      <td>Weak</td>\n",
       "      <td>Yes</td>\n",
       "    </tr>\n",
       "    <tr>\n",
       "      <th>10</th>\n",
       "      <td>Sunny</td>\n",
       "      <td>Mild</td>\n",
       "      <td>Normal</td>\n",
       "      <td>Strong</td>\n",
       "      <td>Yes</td>\n",
       "    </tr>\n",
       "    <tr>\n",
       "      <th>11</th>\n",
       "      <td>Overcast</td>\n",
       "      <td>Mild</td>\n",
       "      <td>High</td>\n",
       "      <td>Strong</td>\n",
       "      <td>Yes</td>\n",
       "    </tr>\n",
       "    <tr>\n",
       "      <th>12</th>\n",
       "      <td>Overcast</td>\n",
       "      <td>Hot</td>\n",
       "      <td>Normal</td>\n",
       "      <td>Weak</td>\n",
       "      <td>Yes</td>\n",
       "    </tr>\n",
       "    <tr>\n",
       "      <th>13</th>\n",
       "      <td>Rain</td>\n",
       "      <td>Mild</td>\n",
       "      <td>High</td>\n",
       "      <td>Strong</td>\n",
       "      <td>No</td>\n",
       "    </tr>\n",
       "  </tbody>\n",
       "</table>\n",
       "</div>"
      ],
      "text/plain": [
       "     Outlook Temperature Humidity    Wind Play Tennis\n",
       "9       Rain        Mild   Normal    Weak         Yes\n",
       "10     Sunny        Mild   Normal  Strong         Yes\n",
       "11  Overcast        Mild     High  Strong         Yes\n",
       "12  Overcast         Hot   Normal    Weak         Yes\n",
       "13      Rain        Mild     High  Strong          No"
      ]
     },
     "execution_count": 54,
     "metadata": {},
     "output_type": "execute_result"
    }
   ],
   "source": [
    "df.tail() #Extract the some Last rows..."
   ]
  },
  {
   "cell_type": "code",
   "execution_count": 55,
   "id": "ec570c5a-9f8d-4638-ac6b-51f34bb91344",
   "metadata": {},
   "outputs": [
    {
     "name": "stdout",
     "output_type": "stream",
     "text": [
      "<class 'pandas.core.frame.DataFrame'>\n",
      "RangeIndex: 14 entries, 0 to 13\n",
      "Data columns (total 5 columns):\n",
      " #   Column       Non-Null Count  Dtype \n",
      "---  ------       --------------  ----- \n",
      " 0   Outlook      14 non-null     object\n",
      " 1   Temperature  14 non-null     object\n",
      " 2   Humidity     14 non-null     object\n",
      " 3   Wind         14 non-null     object\n",
      " 4   Play Tennis  14 non-null     object\n",
      "dtypes: object(5)\n",
      "memory usage: 692.0+ bytes\n",
      "None\n",
      "\n",
      "\n",
      "       Outlook Temperature Humidity  Wind Play Tennis\n",
      "count       14          14       14    14          14\n",
      "unique       3           3        2     2           2\n",
      "top      Sunny        Mild     High  Weak         Yes\n",
      "freq         5           6        7     8           9\n"
     ]
    }
   ],
   "source": [
    "print(df.info())  # Data types, missing values, column details\n",
    "print(\"\\n\")\n",
    "print(df.describe())  # Numerical columns की summary statistics"
   ]
  },
  {
   "cell_type": "code",
   "execution_count": 56,
   "id": "15a4bdee-5817-4253-bcce-0c528d56c5f6",
   "metadata": {},
   "outputs": [
    {
     "name": "stdout",
     "output_type": "stream",
     "text": [
      "Play Tennis\n",
      "Yes    9\n",
      "No     5\n",
      "Name: count, dtype: int64\n",
      "\n",
      "\n",
      "Outlook        3\n",
      "Temperature    3\n",
      "Humidity       2\n",
      "Wind           2\n",
      "Play Tennis    2\n",
      "dtype: int64\n"
     ]
    }
   ],
   "source": [
    "print(df['Play Tennis'].value_counts())  # 'Sky' Columns to finds the unique values's\n",
    "print(\"\\n\")\n",
    "print(df.nunique())  #To check every columns unique vlaues..."
   ]
  },
  {
   "cell_type": "code",
   "execution_count": 57,
   "id": "8e5ca0c9-91f2-4857-9548-eef99f282bb3",
   "metadata": {},
   "outputs": [
    {
     "name": "stdout",
     "output_type": "stream",
     "text": [
      "Outlook        0\n",
      "Temperature    0\n",
      "Humidity       0\n",
      "Wind           0\n",
      "Play Tennis    0\n",
      "dtype: int64\n",
      "\n",
      "\n"
     ]
    }
   ],
   "source": [
    "# Check missing values\n",
    "print(df.isnull().sum())\n",
    "print(\"\\n\")"
   ]
  },
  {
   "cell_type": "code",
   "execution_count": 58,
   "id": "04c3a3a2-995a-4216-b419-9101bbd8ab46",
   "metadata": {},
   "outputs": [
    {
     "name": "stdout",
     "output_type": "stream",
     "text": [
      "['Hot' 'Mild' 'Cool']\n"
     ]
    }
   ],
   "source": [
    "print(df[\"Temperature\"].unique())"
   ]
  },
  {
   "cell_type": "code",
   "execution_count": 59,
   "id": "76194c84-7ba8-4259-be79-2d1103571867",
   "metadata": {},
   "outputs": [
    {
     "data": {
      "text/plain": [
       "Index(['Outlook', 'Temperature', 'Humidity', 'Wind', 'Play Tennis'], dtype='object')"
      ]
     },
     "execution_count": 59,
     "metadata": {},
     "output_type": "execute_result"
    }
   ],
   "source": [
    "df.columns # To check the columns"
   ]
  },
  {
   "cell_type": "code",
   "execution_count": 60,
   "id": "5cbb20c2-765f-4969-897a-c36fa12bbfa2",
   "metadata": {},
   "outputs": [
    {
     "data": {
      "text/plain": [
       "70"
      ]
     },
     "execution_count": 60,
     "metadata": {},
     "output_type": "execute_result"
    }
   ],
   "source": [
    "df.size"
   ]
  },
  {
   "cell_type": "code",
   "execution_count": 61,
   "id": "b4c5b7a3-ddc6-483c-b3bd-abf12711a514",
   "metadata": {},
   "outputs": [
    {
     "data": {
      "text/plain": [
       "(14, 5)"
      ]
     },
     "execution_count": 61,
     "metadata": {},
     "output_type": "execute_result"
    }
   ],
   "source": [
    "df.shape"
   ]
  },
  {
   "cell_type": "code",
   "execution_count": 62,
   "id": "23b317e3-b937-43e2-9e05-6af89135bf09",
   "metadata": {},
   "outputs": [
    {
     "data": {
      "text/html": [
       "<div>\n",
       "<style scoped>\n",
       "    .dataframe tbody tr th:only-of-type {\n",
       "        vertical-align: middle;\n",
       "    }\n",
       "\n",
       "    .dataframe tbody tr th {\n",
       "        vertical-align: top;\n",
       "    }\n",
       "\n",
       "    .dataframe thead th {\n",
       "        text-align: right;\n",
       "    }\n",
       "</style>\n",
       "<table border=\"1\" class=\"dataframe\">\n",
       "  <thead>\n",
       "    <tr style=\"text-align: right;\">\n",
       "      <th></th>\n",
       "      <th>Outlook</th>\n",
       "      <th>Temperature</th>\n",
       "      <th>Humidity</th>\n",
       "      <th>Wind</th>\n",
       "      <th>Play Tennis</th>\n",
       "    </tr>\n",
       "  </thead>\n",
       "  <tbody>\n",
       "    <tr>\n",
       "      <th>0</th>\n",
       "      <td>False</td>\n",
       "      <td>False</td>\n",
       "      <td>False</td>\n",
       "      <td>False</td>\n",
       "      <td>False</td>\n",
       "    </tr>\n",
       "    <tr>\n",
       "      <th>1</th>\n",
       "      <td>False</td>\n",
       "      <td>False</td>\n",
       "      <td>False</td>\n",
       "      <td>False</td>\n",
       "      <td>False</td>\n",
       "    </tr>\n",
       "    <tr>\n",
       "      <th>2</th>\n",
       "      <td>False</td>\n",
       "      <td>False</td>\n",
       "      <td>False</td>\n",
       "      <td>False</td>\n",
       "      <td>False</td>\n",
       "    </tr>\n",
       "    <tr>\n",
       "      <th>3</th>\n",
       "      <td>False</td>\n",
       "      <td>False</td>\n",
       "      <td>False</td>\n",
       "      <td>False</td>\n",
       "      <td>False</td>\n",
       "    </tr>\n",
       "    <tr>\n",
       "      <th>4</th>\n",
       "      <td>False</td>\n",
       "      <td>False</td>\n",
       "      <td>False</td>\n",
       "      <td>False</td>\n",
       "      <td>False</td>\n",
       "    </tr>\n",
       "    <tr>\n",
       "      <th>5</th>\n",
       "      <td>False</td>\n",
       "      <td>False</td>\n",
       "      <td>False</td>\n",
       "      <td>False</td>\n",
       "      <td>False</td>\n",
       "    </tr>\n",
       "    <tr>\n",
       "      <th>6</th>\n",
       "      <td>False</td>\n",
       "      <td>False</td>\n",
       "      <td>False</td>\n",
       "      <td>False</td>\n",
       "      <td>False</td>\n",
       "    </tr>\n",
       "    <tr>\n",
       "      <th>7</th>\n",
       "      <td>False</td>\n",
       "      <td>False</td>\n",
       "      <td>False</td>\n",
       "      <td>False</td>\n",
       "      <td>False</td>\n",
       "    </tr>\n",
       "    <tr>\n",
       "      <th>8</th>\n",
       "      <td>False</td>\n",
       "      <td>False</td>\n",
       "      <td>False</td>\n",
       "      <td>False</td>\n",
       "      <td>False</td>\n",
       "    </tr>\n",
       "    <tr>\n",
       "      <th>9</th>\n",
       "      <td>False</td>\n",
       "      <td>False</td>\n",
       "      <td>False</td>\n",
       "      <td>False</td>\n",
       "      <td>False</td>\n",
       "    </tr>\n",
       "    <tr>\n",
       "      <th>10</th>\n",
       "      <td>False</td>\n",
       "      <td>False</td>\n",
       "      <td>False</td>\n",
       "      <td>False</td>\n",
       "      <td>False</td>\n",
       "    </tr>\n",
       "    <tr>\n",
       "      <th>11</th>\n",
       "      <td>False</td>\n",
       "      <td>False</td>\n",
       "      <td>False</td>\n",
       "      <td>False</td>\n",
       "      <td>False</td>\n",
       "    </tr>\n",
       "    <tr>\n",
       "      <th>12</th>\n",
       "      <td>False</td>\n",
       "      <td>False</td>\n",
       "      <td>False</td>\n",
       "      <td>False</td>\n",
       "      <td>False</td>\n",
       "    </tr>\n",
       "    <tr>\n",
       "      <th>13</th>\n",
       "      <td>False</td>\n",
       "      <td>False</td>\n",
       "      <td>False</td>\n",
       "      <td>False</td>\n",
       "      <td>False</td>\n",
       "    </tr>\n",
       "  </tbody>\n",
       "</table>\n",
       "</div>"
      ],
      "text/plain": [
       "    Outlook  Temperature  Humidity   Wind  Play Tennis\n",
       "0     False        False     False  False        False\n",
       "1     False        False     False  False        False\n",
       "2     False        False     False  False        False\n",
       "3     False        False     False  False        False\n",
       "4     False        False     False  False        False\n",
       "5     False        False     False  False        False\n",
       "6     False        False     False  False        False\n",
       "7     False        False     False  False        False\n",
       "8     False        False     False  False        False\n",
       "9     False        False     False  False        False\n",
       "10    False        False     False  False        False\n",
       "11    False        False     False  False        False\n",
       "12    False        False     False  False        False\n",
       "13    False        False     False  False        False"
      ]
     },
     "execution_count": 62,
     "metadata": {},
     "output_type": "execute_result"
    }
   ],
   "source": [
    "df.isnull()"
   ]
  },
  {
   "cell_type": "code",
   "execution_count": 63,
   "id": "64811e3d-5623-4fcf-b339-62b4f2fd021c",
   "metadata": {},
   "outputs": [
    {
     "data": {
      "text/plain": [
       "Index          132\n",
       "Outlook        112\n",
       "Temperature    112\n",
       "Humidity       112\n",
       "Wind           112\n",
       "Play Tennis    112\n",
       "dtype: int64"
      ]
     },
     "execution_count": 63,
     "metadata": {},
     "output_type": "execute_result"
    }
   ],
   "source": [
    "df.memory_usage()"
   ]
  },
  {
   "cell_type": "code",
   "execution_count": 67,
   "id": "8b0fef1a-6097-442b-b4a7-496596b900d4",
   "metadata": {},
   "outputs": [
    {
     "name": "stdout",
     "output_type": "stream",
     "text": [
      "Final Hypothesis: ['φ', 'φ', 'φ', 'φ']\n"
     ]
    }
   ],
   "source": [
    "import csv\n",
    "\n",
    "# Function to read CSV file\n",
    "def read_data(filename):\n",
    "    with open(filename, 'r') as csvfile:\n",
    "        datareader = csv.reader(csvfile)\n",
    "        data = [row for row in datareader]\n",
    "    return data\n",
    "\n",
    "# Find-S Algorithm\n",
    "def find_s_algorithm(data):\n",
    "    h = [\"φ\"] * (len(data[0]) - 1)  # Initial Hypothesis\n",
    "\n",
    "    for row in data:\n",
    "        if row[-1] == \"yes\":  # Only consider positive examples\n",
    "            for i in range(len(h)):\n",
    "                if h[i] == \"φ\":\n",
    "                    h[i] = row[i]\n",
    "                elif h[i] != row[i]:\n",
    "                    h[i] = \"?\"\n",
    "    \n",
    "    return h\n",
    "\n",
    "# Read data from CSV\n",
    "filename = \"Play_tennis.csv\"\n",
    "data = read_data(filename)\n",
    "\n",
    "# Run Find-S Algorithm\n",
    "hypothesis = find_s_algorithm(data)\n",
    "print(\"Final Hypothesis:\", hypothesis)"
   ]
  },
  {
   "cell_type": "code",
   "execution_count": 68,
   "id": "14ef1c54-e0a4-4dc7-bab3-1286f47ef307",
   "metadata": {},
   "outputs": [
    {
     "name": "stdout",
     "output_type": "stream",
     "text": [
      "Final Hypothesis: ['φ' 'φ' 'φ' 'φ']\n"
     ]
    }
   ],
   "source": [
    "import pandas as pd\n",
    "import numpy as np\n",
    "\n",
    "# Load CSV data\n",
    "df = pd.read_csv(\"Play_tennis.csv\")\n",
    "\n",
    "# Find-S Algorithm using Pandas\n",
    "def find_s(df):\n",
    "    h = np.array([\"φ\"] * (len(df.columns) - 1))  # Initial Hypothesis\n",
    "\n",
    "    for _, row in df.iterrows():\n",
    "        if row.iloc[-1] == \"yes\":  # Only consider positive examples\n",
    "            for i in range(len(h)):\n",
    "                if h[i] == \"φ\":\n",
    "                    h[i] = row[i]\n",
    "                elif h[i] != row[i]:\n",
    "                    h[i] = \"?\"\n",
    "    \n",
    "    return h\n",
    "\n",
    "# Run Find-S Algorithm\n",
    "hypothesis = find_s(df)\n",
    "print(\"Final Hypothesis:\", hypothesis)"
   ]
  },
  {
   "cell_type": "code",
   "execution_count": 69,
   "id": "c0a39e5c-f3b5-4400-a1c4-d6c0d7599bc1",
   "metadata": {},
   "outputs": [
    {
     "name": "stdout",
     "output_type": "stream",
     "text": [
      "Begin : Hypothesis: ['phi', 'phi', 'phi', 'phi', 'phi', 'phi']\n",
      "================================================================================\n",
      "Training data is: ['sky', 'Airtemp', 'Humidity', 'Wind', 'Water', 'Forecast', 'WaterSport']\n",
      "Updated Hypothesis: ['phi', 'phi', 'phi', 'phi', 'phi', 'phi']\n",
      "\n",
      " \n",
      "Training data is: ['Cloudy', 'Cold', 'High', 'Strong', 'Warm', 'Change', 'Yes']\n",
      "Updated Hypothesis: ['phi', 'phi', 'phi', 'phi', 'phi', 'phi']\n",
      "\n",
      " \n",
      "Training data is: ['Sunny', 'Warm', 'Normal', 'Strong', 'Warm', 'Same', 'Yes']\n",
      "Updated Hypothesis: ['phi', 'phi', 'phi', 'phi', 'phi', 'phi']\n",
      "\n",
      " \n",
      "Training data is: ['Sunny', 'Warm', 'High', 'Strong', 'Warm', 'Same', 'Yes']\n",
      "Updated Hypothesis: ['phi', 'phi', 'phi', 'phi', 'phi', 'phi']\n",
      "\n",
      " \n",
      "Training data is: ['Cloudy', 'Cold', 'High', 'Strong', 'Warm', 'Change', 'No']\n",
      "Updated Hypothesis: ['phi', 'phi', 'phi', 'phi', 'phi', 'phi']\n",
      "\n",
      " \n",
      "Training data is: ['Sunny', 'Warm', 'High', 'Strong', 'Cool', 'Change', 'Yes']\n",
      "Updated Hypothesis: ['phi', 'phi', 'phi', 'phi', 'phi', 'phi']\n",
      "\n",
      " \n",
      "Training data is: ['Rain', 'Mild', 'High', 'Weak', 'Cool', 'Change', 'No']\n",
      "Updated Hypothesis: ['phi', 'phi', 'phi', 'phi', 'phi', 'phi']\n",
      "\n",
      " \n",
      "Training data is: ['Rain', 'Cool', 'Normal', 'Weak', 'Cool', 'Same', 'No']\n",
      "Updated Hypothesis: ['phi', 'phi', 'phi', 'phi', 'phi', 'phi']\n",
      "\n",
      " \n",
      "Training data is: ['Overcast', 'Cool', 'Normal', 'Strong', 'Warm', 'Same', 'Yes']\n",
      "Updated Hypothesis: ['phi', 'phi', 'phi', 'phi', 'phi', 'phi']\n",
      "\n",
      " \n",
      "==========================================\n",
      "maximally sepcific data set End: Hypothesis : ['phi', 'phi', 'phi', 'phi', 'phi', 'phi']\n"
     ]
    }
   ],
   "source": [
    "import random\n",
    "import pandas as pd\n",
    "import numpy as np\n",
    "import os\n",
    "import csv\n",
    "\n",
    "filename = pd.read_csv(\"Play_tennis.csv\")\n",
    "\n",
    "def read_data(filename):\n",
    "    with open(filename, 'r') as csvfile:\n",
    "        datareader = csv.reader(csvfile, delimiter=',')\n",
    "        traindata = []\n",
    "        for row in datareader:\n",
    "            traindata.append(row)\n",
    "        return (traindata)\n",
    "        \n",
    "h=['phi','phi','phi','phi','phi','phi']\n",
    "data=read_data('sample.csv')\n",
    "\n",
    "def isConsistent(h,d):\n",
    "    if len(h)!=len(d)-1:\n",
    "        print('Number of attributes are not same in hypothesis.')\n",
    "        return False\n",
    "    else:\n",
    "        matched = 0\n",
    "        for i in range(len(h)):\n",
    "            if(h[i] == d[i]) | (h[i] == \"any\"):\n",
    "                matched += 1\n",
    "            if matched == len(h):\n",
    "                return True\n",
    "            else:\n",
    "                return False\n",
    "\n",
    "def makeConsistent(h,d):\n",
    "    for i in range(len(h)):\n",
    "        if((h[i] == \"phi\")):\n",
    "            h[i] = d[i]\n",
    "        elif (h[i]!= d[i]):\n",
    "            h[i] = \"any\"\n",
    "    return h\n",
    "print(\"Begin : Hypothesis:\",h)\n",
    "print(\"================================================================================\")\n",
    "\n",
    "for d in data:\n",
    "    \n",
    "    if d[len(d)-1] == \"yes\":\n",
    "          if (isConsistent(h,d)):\n",
    "              pass\n",
    "          else:\n",
    "              h = makeConsistent(h,d)\n",
    "    print(\"Training data is:\",d)\n",
    "    print(\"Updated Hypothesis:\",h)\n",
    "    print()\n",
    "    print(' ')\n",
    "print('==========================================')\n",
    "print('maximally sepcific data set End: Hypothesis :',h)"
   ]
  },
  {
   "cell_type": "markdown",
   "id": "a8754729-8309-4a5b-a372-f112b9f3e674",
   "metadata": {},
   "source": [
    "$$\n",
    "Visualization's\n",
    "$$"
   ]
  },
  {
   "cell_type": "code",
   "execution_count": 70,
   "id": "cf4efedb-b7b2-41b8-b73e-a0b5b2488fd5",
   "metadata": {},
   "outputs": [
    {
     "data": {
      "image/png": "[encoded data removed]",
      "text/plain": [
       "<Figure size 1087.74x1000 with 20 Axes>"
      ]
     },
     "metadata": {},
     "output_type": "display_data"
    }
   ],
   "source": [
    "# **Data Visualization**\n",
    "# Convert categorical features to numerical for visualization\n",
    "df_numeric = df.copy()\n",
    "for col in df_numeric.columns[:-1]:  \n",
    "    df_numeric[col] = pd.factorize(df_numeric[col])[0]\n",
    "\n",
    "# Pairplot to visualize feature relationships\n",
    "sns.pairplot(df_numeric, hue=df_numeric.columns[-1], palette=\"Set2\")\n",
    "plt.title(\"Feature Distribution in Data\")\n",
    "plt.show()"
   ]
  },
  {
   "cell_type": "markdown",
   "id": "11d84b55-5665-443d-8e9f-dfd23a5dfe07",
   "metadata": {},
   "source": [
    "# The End"
   ]
  }
 ],
 "metadata": {
  "kernelspec": {
   "display_name": "Python 3 (ipykernel)",
   "language": "python",
   "name": "python3"
  },
  "language_info": {
   "codemirror_mode": {
    "name": "ipython",
    "version": 3
   },
   "file_extension": ".py",
   "mimetype": "text/x-python",
   "name": "python",
   "nbconvert_exporter": "python",
   "pygments_lexer": "ipython3",
   "version": "3.11.7"
  }
 },
 "nbformat": 4,
 "nbformat_minor": 5
}
